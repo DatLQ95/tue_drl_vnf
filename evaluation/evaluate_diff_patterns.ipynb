{
 "cells": [
  {
   "cell_type": "markdown",
   "metadata": {},
   "source": [
    "## Import lib"
   ]
  },
  {
   "cell_type": "code",
   "execution_count": 1,
   "metadata": {},
   "outputs": [],
   "source": [
    "import csv\n",
    "import matplotlib.pyplot as plt\n",
    "from numpy import loadtxt"
   ]
  },
  {
   "cell_type": "markdown",
   "metadata": {},
   "source": [
    "### Import all files"
   ]
  },
  {
   "cell_type": "markdown",
   "metadata": {},
   "source": [
    "2 node"
   ]
  },
  {
   "cell_type": "code",
   "execution_count": 25,
   "metadata": {},
   "outputs": [],
   "source": [
    "RL_model_sigma_0_0_drop_request = '/home/dat/git_folder_edge_4/realVNF/drl_vnf_project/results/sample_agent_100_DDPG_Baseline_one_service_flow_objective/tue_network_triangle_15_cap_pop1_pop2_ingress_diff_cap_7_5/tue_abc_one_service/trace_config_100_sim_duration_pop1_pop2_pattern_0/sfc_requirement_one_service/2021-06-22_12-45-45_seed9834/test-2021-07-27_11-34-52_seed7772/run_flows.csv'\n",
    "RL_model_sigma_0_0_total_request = '/home/dat/git_folder_edge_4/realVNF/drl_vnf_project/results/sample_agent_100_DDPG_Baseline_one_service_flow_objective/tue_network_triangle_15_cap_pop1_pop2_ingress_diff_cap_7_5/tue_abc_one_service/trace_config_100_sim_duration_pop1_pop2_pattern_0/sfc_requirement_one_service/2021-06-22_12-45-45_seed9834/test-2021-07-27_11-34-52_seed7772/run_flows.csv'\n",
    "\n",
    "RL_model_sigma_0_5_drop_request = '/home/dat/git_folder_edge_4/realVNF/drl_vnf_project/results/sample_agent_100_DDPG_Baseline_one_service_flow_objective/tue_network_triangle_15_cap_pop1_pop2_ingress_diff_cap_7_5/tue_abc_one_service/trace_config_100_sim_duration_pop1_pop2_pattern_1/sfc_requirement_one_service/2021-06-22_12-45-45_seed9834/test-2021-07-27_11-44-07_seed6252/run_flows.csv'\n",
    "RL_model_sigma_0_5_total_request = '/home/dat/git_folder_edge_4/realVNF/drl_vnf_project/results/sample_agent_100_DDPG_Baseline_one_service_flow_objective/tue_network_triangle_15_cap_pop1_pop2_ingress_diff_cap_7_5/tue_abc_one_service/trace_config_100_sim_duration_pop1_pop2_pattern_1/sfc_requirement_one_service/2021-06-22_12-45-45_seed9834/test-2021-07-27_11-44-07_seed6252/run_flows.csv'\n",
    "\n",
    "RL_model_sigma_1_0_drop_request = '/home/dat/git_folder_edge_4/realVNF/drl_vnf_project/results/sample_agent_100_DDPG_Baseline_one_service_flow_objective/tue_network_triangle_15_cap_pop1_pop2_ingress_diff_cap_7_5/tue_abc_one_service/trace_config_100_sim_duration_pop1_pop2_pattern_2/sfc_requirement_one_service/2021-06-22_12-45-45_seed9834/test-2021-07-27_11-44-07_seed6956/run_flows.csv'\n",
    "RL_model_sigma_1_0_total_request = '/home/dat/git_folder_edge_4/realVNF/drl_vnf_project/results/sample_agent_100_DDPG_Baseline_one_service_flow_objective/tue_network_triangle_15_cap_pop1_pop2_ingress_diff_cap_7_5/tue_abc_one_service/trace_config_100_sim_duration_pop1_pop2_pattern_2/sfc_requirement_one_service/2021-06-22_12-45-45_seed9834/test-2021-07-27_11-44-07_seed6956/run_flows.csv'\n",
    "\n",
    "RL_model_sigma_1_5_drop_request = '/home/dat/git_folder_edge_4/realVNF/drl_vnf_project/results/sample_agent_100_DDPG_Baseline_one_service_flow_objective/tue_network_triangle_15_cap_pop1_pop2_ingress_diff_cap_7_5/tue_abc_one_service/trace_config_100_sim_duration_pop1_pop2_pattern_3/sfc_requirement_one_service/2021-06-22_12-45-45_seed9834/test-2021-07-27_11-44-07_seed5978/run_flows.csv'\n",
    "RL_model_sigma_1_5_total_request = '/home/dat/git_folder_edge_4/realVNF/drl_vnf_project/results/sample_agent_100_DDPG_Baseline_one_service_flow_objective/tue_network_triangle_15_cap_pop1_pop2_ingress_diff_cap_7_5/tue_abc_one_service/trace_config_100_sim_duration_pop1_pop2_pattern_3/sfc_requirement_one_service/2021-06-22_12-45-45_seed9834/test-2021-07-27_11-44-07_seed5978/run_flows.csv'\n",
    "\n",
    "RL_model_sigma_2_0_drop_request = '/home/dat/git_folder_edge_4/realVNF/drl_vnf_project/results/sample_agent_100_DDPG_Baseline_one_service_flow_objective/tue_network_triangle_15_cap_pop1_pop2_ingress_diff_cap_7_5/tue_abc_one_service/trace_config_100_sim_duration_pop1_pop2_pattern_4/sfc_requirement_one_service/2021-06-22_12-45-45_seed9834/test-2021-07-27_11-44-07_seed6423/run_flows.csv'\n",
    "RL_model_sigma_2_0_total_request = '/home/dat/git_folder_edge_4/realVNF/drl_vnf_project/results/sample_agent_100_DDPG_Baseline_one_service_flow_objective/tue_network_triangle_15_cap_pop1_pop2_ingress_diff_cap_7_5/tue_abc_one_service/trace_config_100_sim_duration_pop1_pop2_pattern_4/sfc_requirement_one_service/2021-06-22_12-45-45_seed9834/test-2021-07-27_11-44-07_seed6423/run_flows.csv'\n",
    "\n",
    "RL_model_sigma_2_5_drop_request = '/home/dat/git_folder_edge_4/realVNF/drl_vnf_project/results/sample_agent_100_DDPG_Baseline_one_service_flow_objective/tue_network_triangle_15_cap_pop1_pop2_ingress_diff_cap_7_5/tue_abc_one_service/trace_config_100_sim_duration_pop1_pop2_pattern_5/sfc_requirement_one_service/2021-06-22_12-45-45_seed9834/test-2021-07-27_11-44-07_seed9364/run_flows.csv'\n",
    "RL_model_sigma_2_5_total_request = '/home/dat/git_folder_edge_4/realVNF/drl_vnf_project/results/sample_agent_100_DDPG_Baseline_one_service_flow_objective/tue_network_triangle_15_cap_pop1_pop2_ingress_diff_cap_7_5/tue_abc_one_service/trace_config_100_sim_duration_pop1_pop2_pattern_5/sfc_requirement_one_service/2021-06-22_12-45-45_seed9834/test-2021-07-27_11-44-07_seed9364/run_flows.csv'\n",
    "\n",
    "RL_model_sigma_3_0_drop_request = '/home/dat/git_folder_edge_4/realVNF/drl_vnf_project/results/sample_agent_100_DDPG_Baseline_one_service_flow_objective/tue_network_triangle_15_cap_pop1_pop2_ingress_diff_cap_7_5/tue_abc_one_service/trace_config_100_sim_duration_pop1_pop2_pattern_6/sfc_requirement_one_service/2021-06-22_12-45-45_seed9834/test-2021-07-27_11-44-07_seed5524/run_flows.csv'\n",
    "RL_model_sigma_3_0_total_request = '/home/dat/git_folder_edge_4/realVNF/drl_vnf_project/results/sample_agent_100_DDPG_Baseline_one_service_flow_objective/tue_network_triangle_15_cap_pop1_pop2_ingress_diff_cap_7_5/tue_abc_one_service/trace_config_100_sim_duration_pop1_pop2_pattern_6/sfc_requirement_one_service/2021-06-22_12-45-45_seed9834/test-2021-07-27_11-44-07_seed5524/run_flows.csv'\n",
    "\n",
    "RL_model_sigma_3_5_drop_request = '/home/dat/git_folder_edge_4/realVNF/drl_vnf_project/results/sample_agent_100_DDPG_Baseline_one_service_flow_objective/tue_network_triangle_15_cap_pop1_pop2_ingress_diff_cap_7_5/tue_abc_one_service/trace_config_100_sim_duration_pop1_pop2_pattern_7/sfc_requirement_one_service/2021-06-22_12-45-45_seed9834/test-2021-07-27_11-44-07_seed9292/run_flows.csv'\n",
    "RL_model_sigma_3_5_total_request = '/home/dat/git_folder_edge_4/realVNF/drl_vnf_project/results/sample_agent_100_DDPG_Baseline_one_service_flow_objective/tue_network_triangle_15_cap_pop1_pop2_ingress_diff_cap_7_5/tue_abc_one_service/trace_config_100_sim_duration_pop1_pop2_pattern_7/sfc_requirement_one_service/2021-06-22_12-45-45_seed9834/test-2021-07-27_11-44-07_seed9292/run_flows.csv'"
   ]
  },
  {
   "cell_type": "code",
   "execution_count": 26,
   "metadata": {},
   "outputs": [],
   "source": [
    "load_balance_sigma_0_0_drop_request = '/home/dat/git_folder_edge_4/realVNF/baseline-algorithms/results/tue_network_triangle_15_cap_pop1_pop2_ingress_diff_cap_7_5/tue_abc_one_service/trace_config_100_sim_duration_pop1_pop2_pattern_0/load-balance-pattern-0/run_flows.csv'\n",
    "load_balance_sigma_0_0_total_request = '/home/dat/git_folder_edge_4/realVNF/baseline-algorithms/results/tue_network_triangle_15_cap_pop1_pop2_ingress_diff_cap_7_5/tue_abc_one_service/trace_config_100_sim_duration_pop1_pop2_pattern_0/load-balance-pattern-0/run_flows.csv'\n",
    "\n",
    "load_balance_sigma_0_5_drop_request = '/home/dat/git_folder_edge_4/realVNF/baseline-algorithms/results/tue_network_triangle_15_cap_pop1_pop2_ingress_diff_cap_7_5/tue_abc_one_service/trace_config_100_sim_duration_pop1_pop2_pattern_1/load_balance_pattern_1/run_flows.csv'\n",
    "load_balance_sigma_0_5_total_request = '/home/dat/git_folder_edge_4/realVNF/baseline-algorithms/results/tue_network_triangle_15_cap_pop1_pop2_ingress_diff_cap_7_5/tue_abc_one_service/trace_config_100_sim_duration_pop1_pop2_pattern_1/load_balance_pattern_1/run_flows.csv'\n",
    "\n",
    "load_balance_sigma_1_0_drop_request = '/home/dat/git_folder_edge_4/realVNF/baseline-algorithms/results/tue_network_triangle_15_cap_pop1_pop2_ingress_diff_cap_7_5/tue_abc_one_service/trace_config_100_sim_duration_pop1_pop2_pattern_2/load_balance_pattern_2/run_flows.csv'\n",
    "load_balance_sigma_1_0_total_request = '/home/dat/git_folder_edge_4/realVNF/baseline-algorithms/results/tue_network_triangle_15_cap_pop1_pop2_ingress_diff_cap_7_5/tue_abc_one_service/trace_config_100_sim_duration_pop1_pop2_pattern_2/load_balance_pattern_2/run_flows.csv'\n",
    "\n",
    "load_balance_sigma_1_5_drop_request = '/home/dat/git_folder_edge_4/realVNF/baseline-algorithms/results/tue_network_triangle_15_cap_pop1_pop2_ingress_diff_cap_7_5/tue_abc_one_service/trace_config_100_sim_duration_pop1_pop2_pattern_3/load_balance_pattern_3/run_flows.csv'\n",
    "load_balance_sigma_1_5_total_request = '/home/dat/git_folder_edge_4/realVNF/baseline-algorithms/results/tue_network_triangle_15_cap_pop1_pop2_ingress_diff_cap_7_5/tue_abc_one_service/trace_config_100_sim_duration_pop1_pop2_pattern_3/load_balance_pattern_3/run_flows.csv'\n",
    "\n",
    "load_balance_sigma_2_0_drop_request = '/home/dat/git_folder_edge_4/realVNF/baseline-algorithms/results/tue_network_triangle_15_cap_pop1_pop2_ingress_diff_cap_7_5/tue_abc_one_service/trace_config_100_sim_duration_pop1_pop2_pattern_4/load_balance_pattern_4/run_flows.csv'\n",
    "load_balance_sigma_2_0_total_request = '/home/dat/git_folder_edge_4/realVNF/baseline-algorithms/results/tue_network_triangle_15_cap_pop1_pop2_ingress_diff_cap_7_5/tue_abc_one_service/trace_config_100_sim_duration_pop1_pop2_pattern_4/load_balance_pattern_4/run_flows.csv'\n",
    "\n",
    "load_balance_sigma_2_5_drop_request = '/home/dat/git_folder_edge_4/realVNF/baseline-algorithms/results/tue_network_triangle_15_cap_pop1_pop2_ingress_diff_cap_7_5/tue_abc_one_service/trace_config_100_sim_duration_pop1_pop2_pattern_5/load_balance_5/run_flows.csv'\n",
    "load_balance_sigma_2_5_total_request = '/home/dat/git_folder_edge_4/realVNF/baseline-algorithms/results/tue_network_triangle_15_cap_pop1_pop2_ingress_diff_cap_7_5/tue_abc_one_service/trace_config_100_sim_duration_pop1_pop2_pattern_5/load_balance_5/run_flows.csv'\n",
    "\n",
    "load_balance_sigma_3_0_drop_request = '/home/dat/git_folder_edge_4/realVNF/baseline-algorithms/results/tue_network_triangle_15_cap_pop1_pop2_ingress_diff_cap_7_5/tue_abc_one_service/trace_config_100_sim_duration_pop1_pop2_pattern_6/load_balance/run_flows.csv'\n",
    "load_balance_sigma_3_0_total_request = '/home/dat/git_folder_edge_4/realVNF/baseline-algorithms/results/tue_network_triangle_15_cap_pop1_pop2_ingress_diff_cap_7_5/tue_abc_one_service/trace_config_100_sim_duration_pop1_pop2_pattern_6/load_balance/run_flows.csv'\n",
    "\n",
    "load_balance_sigma_3_5_drop_request = '/home/dat/git_folder_edge_4/realVNF/baseline-algorithms/results/tue_network_triangle_15_cap_pop1_pop2_ingress_diff_cap_7_5/tue_abc_one_service/trace_config_100_sim_duration_pop1_pop2_pattern_7/load_balance_7/run_flows.csv'\n",
    "load_balance_sigma_3_5_total_request = '/home/dat/git_folder_edge_4/realVNF/baseline-algorithms/results/tue_network_triangle_15_cap_pop1_pop2_ingress_diff_cap_7_5/tue_abc_one_service/trace_config_100_sim_duration_pop1_pop2_pattern_7/load_balance_7/run_flows.csv'"
   ]
  },
  {
   "cell_type": "code",
   "execution_count": 27,
   "metadata": {},
   "outputs": [],
   "source": [
    "shortest_path_sigma_0_0_drop_request = '/home/dat/git_folder_edge_4/realVNF/baseline-algorithms/results/tue_network_triangle_15_cap_pop1_pop2_ingress_diff_cap_7_5/tue_abc_one_service/trace_config_100_sim_duration_pop1_pop2_pattern_0/2021-07-27_12-07-50_seed4073/run_flows.csv'\n",
    "shortest_path_sigma_0_0_total_request = '/home/dat/git_folder_edge_4/realVNF/baseline-algorithms/results/tue_network_triangle_15_cap_pop1_pop2_ingress_diff_cap_7_5/tue_abc_one_service/trace_config_100_sim_duration_pop1_pop2_pattern_0/2021-07-27_12-07-50_seed4073/run_flows.csv'\n",
    "\n",
    "shortest_path_sigma_0_5_drop_request = '/home/dat/git_folder_edge_4/realVNF/baseline-algorithms/results/tue_network_triangle_15_cap_pop1_pop2_ingress_diff_cap_7_5/tue_abc_one_service/trace_config_100_sim_duration_pop1_pop2_pattern_1/2021-07-27_12-08-00_seed6836/run_flows.csv'\n",
    "shortest_path_sigma_0_5_total_request = '/home/dat/git_folder_edge_4/realVNF/baseline-algorithms/results/tue_network_triangle_15_cap_pop1_pop2_ingress_diff_cap_7_5/tue_abc_one_service/trace_config_100_sim_duration_pop1_pop2_pattern_1/2021-07-27_12-08-00_seed6836/run_flows.csv'\n",
    "\n",
    "shortest_path_sigma_1_0_drop_request = '/home/dat/git_folder_edge_4/realVNF/baseline-algorithms/results/tue_network_triangle_15_cap_pop1_pop2_ingress_diff_cap_7_5/tue_abc_one_service/trace_config_100_sim_duration_pop1_pop2_pattern_2/2021-07-27_12-08-12_seed3922/run_flows.csv'\n",
    "shortest_path_sigma_1_0_total_request = '/home/dat/git_folder_edge_4/realVNF/baseline-algorithms/results/tue_network_triangle_15_cap_pop1_pop2_ingress_diff_cap_7_5/tue_abc_one_service/trace_config_100_sim_duration_pop1_pop2_pattern_2/2021-07-27_12-08-12_seed3922/run_flows.csv'\n",
    "\n",
    "shortest_path_sigma_1_5_drop_request = '/home/dat/git_folder_edge_4/realVNF/baseline-algorithms/results/tue_network_triangle_15_cap_pop1_pop2_ingress_diff_cap_7_5/tue_abc_one_service/trace_config_100_sim_duration_pop1_pop2_pattern_3/2021-07-27_12-08-23_seed1460/run_flows.csv'\n",
    "shortest_path_sigma_1_5_total_request = '/home/dat/git_folder_edge_4/realVNF/baseline-algorithms/results/tue_network_triangle_15_cap_pop1_pop2_ingress_diff_cap_7_5/tue_abc_one_service/trace_config_100_sim_duration_pop1_pop2_pattern_3/2021-07-27_12-08-23_seed1460/run_flows.csv'\n",
    "\n",
    "shortest_path_sigma_2_0_drop_request = '/home/dat/git_folder_edge_4/realVNF/baseline-algorithms/results/tue_network_triangle_15_cap_pop1_pop2_ingress_diff_cap_7_5/tue_abc_one_service/trace_config_100_sim_duration_pop1_pop2_pattern_4/2021-07-27_12-08-33_seed9932/run_flows.csv'\n",
    "shortest_path_sigma_2_0_total_request = '/home/dat/git_folder_edge_4/realVNF/baseline-algorithms/results/tue_network_triangle_15_cap_pop1_pop2_ingress_diff_cap_7_5/tue_abc_one_service/trace_config_100_sim_duration_pop1_pop2_pattern_4/2021-07-27_12-08-33_seed9932/run_flows.csv'\n",
    "\n",
    "shortest_path_sigma_2_5_drop_request = '/home/dat/git_folder_edge_4/realVNF/baseline-algorithms/results/tue_network_triangle_15_cap_pop1_pop2_ingress_diff_cap_7_5/tue_abc_one_service/trace_config_100_sim_duration_pop1_pop2_pattern_5/2021-07-27_12-08-44_seed3122/run_flows.csv'\n",
    "shortest_path_sigma_2_5_total_request = '/home/dat/git_folder_edge_4/realVNF/baseline-algorithms/results/tue_network_triangle_15_cap_pop1_pop2_ingress_diff_cap_7_5/tue_abc_one_service/trace_config_100_sim_duration_pop1_pop2_pattern_5/2021-07-27_12-08-44_seed3122/run_flows.csv'\n",
    "\n",
    "shortest_path_sigma_3_0_drop_request = '/home/dat/git_folder_edge_4/realVNF/baseline-algorithms/results/tue_network_triangle_15_cap_pop1_pop2_ingress_diff_cap_7_5/tue_abc_one_service/trace_config_100_sim_duration_pop1_pop2_pattern_6/2021-07-27_12-08-54_seed3516/run_flows.csv'\n",
    "shortest_path_sigma_3_0_total_request = '/home/dat/git_folder_edge_4/realVNF/baseline-algorithms/results/tue_network_triangle_15_cap_pop1_pop2_ingress_diff_cap_7_5/tue_abc_one_service/trace_config_100_sim_duration_pop1_pop2_pattern_6/2021-07-27_12-08-54_seed3516/run_flows.csv'\n",
    "\n",
    "shortest_path_sigma_3_5_drop_request = '/home/dat/git_folder_edge_4/realVNF/baseline-algorithms/results/tue_network_triangle_15_cap_pop1_pop2_ingress_diff_cap_7_5/tue_abc_one_service/trace_config_100_sim_duration_pop1_pop2_pattern_7/2021-07-27_12-09-10_seed4002/run_flows.csv'\n",
    "shortest_path_sigma_3_5_total_request = '/home/dat/git_folder_edge_4/realVNF/baseline-algorithms/results/tue_network_triangle_15_cap_pop1_pop2_ingress_diff_cap_7_5/tue_abc_one_service/trace_config_100_sim_duration_pop1_pop2_pattern_7/2021-07-27_12-09-10_seed4002/run_flows.csv'"
   ]
  },
  {
   "cell_type": "markdown",
   "metadata": {},
   "source": [
    "### Functions for processing"
   ]
  },
  {
   "cell_type": "markdown",
   "metadata": {},
   "source": [
    "To read to list"
   ]
  },
  {
   "cell_type": "code",
   "execution_count": 16,
   "metadata": {},
   "outputs": [],
   "source": [
    "def read_csv_to_list(file_path, index_start_reading, colum_number):\n",
    "    return_array = list()\n",
    "    with open(file_path, newline='') as csvfile:\n",
    "        spamreader = csv.reader(csvfile, delimiter=',', quotechar='|')\n",
    "        for index, row in enumerate(spamreader):\n",
    "            if index >= index_start_reading:\n",
    "                return_array.append(float(row[colum_number]))\n",
    "    return return_array"
   ]
  },
  {
   "cell_type": "markdown",
   "metadata": {},
   "source": [
    "Calculate drop/succ rate "
   ]
  },
  {
   "cell_type": "code",
   "execution_count": 17,
   "metadata": {},
   "outputs": [],
   "source": [
    "def calculate_drop_succ_rate(drop_arr, succ_arr):\n",
    "    rate_arr = [drop_arr[i]/(drop_arr[i] + succ_arr[i]) for i in range(len(drop_arr))]\n",
    "    return rate_arr"
   ]
  },
  {
   "cell_type": "code",
   "execution_count": 18,
   "metadata": {},
   "outputs": [],
   "source": [
    "def calculate_drop_total_rate(drop_arr, total_arr):\n",
    "    rate_arr = [drop_arr[i]/total_arr[i] for i in range(len(drop_arr))]\n",
    "    return rate_arr"
   ]
  },
  {
   "cell_type": "markdown",
   "metadata": {},
   "source": [
    "Filter for abnormal value"
   ]
  },
  {
   "cell_type": "code",
   "execution_count": 19,
   "metadata": {},
   "outputs": [],
   "source": [
    "def filter_abnormal_values(array, value):\n",
    "    return [i for i in array if i < value]"
   ]
  },
  {
   "cell_type": "markdown",
   "metadata": {},
   "source": [
    "Ingress normalize"
   ]
  },
  {
   "cell_type": "code",
   "execution_count": 20,
   "metadata": {},
   "outputs": [],
   "source": [
    "def ingress_traffic_calculation(ingress_arr):\n",
    "    return [i*500 for i in ingress_arr]"
   ]
  },
  {
   "cell_type": "markdown",
   "metadata": {},
   "source": [
    "Calculate mean"
   ]
  },
  {
   "cell_type": "code",
   "execution_count": 21,
   "metadata": {},
   "outputs": [],
   "source": [
    "def calculate_mean(arr):\n",
    "    return sum(arr)/len(arr)"
   ]
  },
  {
   "cell_type": "markdown",
   "metadata": {},
   "source": [
    "### Read files to variables\n"
   ]
  },
  {
   "cell_type": "code",
   "execution_count": 28,
   "metadata": {},
   "outputs": [],
   "source": [
    "avg_drop_rate_algo = list()\n",
    "\n",
    "sigmas = ['0_0', '0_5', '1_0', '1_5', '2_0', '2_5', '3_0', '3_5']\n",
    "algos = ['RL_model', 'load_balance', 'shortest_path']\n",
    "for algo in algos: \n",
    "    drop_request = list()\n",
    "    total_request = list()\n",
    "    drop_succ_rate = list()\n",
    "    avg_drop_rate = list()\n",
    "    for index, sigma in enumerate(sigmas):\n",
    "        drop_request.append(read_csv_to_list(eval(f\"{algo}_sigma_{sigma}_drop_request\"), 1, 3))\n",
    "        total_request.append(read_csv_to_list(eval(f\"{algo}_sigma_{sigma}_total_request\"), 1, 4))\n",
    "        drop_succ_rate.append(calculate_drop_total_rate(eval(f\"drop_request[{index}]\"), eval(f\"total_request[{index}]\")))\n",
    "        avg_drop_rate.append(calculate_mean(drop_succ_rate[index]))\n",
    "    avg_drop_rate_algo.append(avg_drop_rate)"
   ]
  },
  {
   "cell_type": "code",
   "execution_count": 29,
   "metadata": {},
   "outputs": [
    {
     "data": {
      "text/plain": [
       "[[0.2944818332517701,\n",
       "  0.28618245838615003,\n",
       "  0.3084839617758105,\n",
       "  0.3221170573110537,\n",
       "  0.34690339327074593,\n",
       "  0.35850413555017696,\n",
       "  0.3663069642539491,\n",
       "  0.3338882386440272],\n",
       " [0.3810829068704029,\n",
       "  0.3764302247275402,\n",
       "  0.40603639171582984,\n",
       "  0.4084504648880208,\n",
       "  0.4289290850264729,\n",
       "  0.441279551365284,\n",
       "  0.4449497440976622,\n",
       "  0.42057600087745195],\n",
       " [0.6653491680548649,\n",
       "  0.665728183117488,\n",
       "  0.6896628700888786,\n",
       "  0.6934959860550834,\n",
       "  0.7064345602415001,\n",
       "  0.7107912423484027,\n",
       "  0.7130026267634723,\n",
       "  0.6989893582532263]]"
      ]
     },
     "execution_count": 29,
     "metadata": {},
     "output_type": "execute_result"
    }
   ],
   "source": [
    "avg_drop_rate_algo"
   ]
  },
  {
   "cell_type": "markdown",
   "metadata": {},
   "source": [
    "### Draw latency graph through time after each case"
   ]
  },
  {
   "cell_type": "markdown",
   "metadata": {},
   "source": [
    "### Algoprithm compare"
   ]
  },
  {
   "cell_type": "code",
   "execution_count": 32,
   "metadata": {},
   "outputs": [
    {
     "data": {
      "image/png": "[encoded data removed]",
      "text/plain": [
       "<Figure size 432x288 with 1 Axes>"
      ]
     },
     "metadata": {
      "needs_background": "light"
     },
     "output_type": "display_data"
    }
   ],
   "source": [
    "x_range = [i*10 for i in range(8)]\n",
    "for index, algo in enumerate(algos): \n",
    "    plt.plot(x_range, avg_drop_rate_algo[index], label = algo)\n",
    "\n",
    "plt.title(\"Average drop request rate in different user patterns\")\n",
    "plt.ylabel(\"Drop request rate\")\n",
    "plt.xlabel(\"Gaussian white noise variation\")\n",
    "plt.legend()\n",
    "plt.show()"
   ]
  },
  {
   "cell_type": "code",
   "execution_count": null,
   "metadata": {},
   "outputs": [],
   "source": []
  }
 ],
 "metadata": {
  "kernelspec": {
   "display_name": "Python 3.8.6 64-bit ('project': virtualenv)",
   "language": "python",
   "name": "python38664bitprojectvirtualenv511f82bbeb914cb2b1580558f4b463c2"
  },
  "language_info": {
   "codemirror_mode": {
    "name": "ipython",
    "version": 3
   },
   "file_extension": ".py",
   "mimetype": "text/x-python",
   "name": "python",
   "nbconvert_exporter": "python",
   "pygments_lexer": "ipython3",
   "version": "3.6.10"
  },
  "metadata": {
   "interpreter": {
    "hash": "600e912fa5d352b866390bdb2b33519d35c22e5db49128ed880f0a866facfda2"
   }
  }
 },
 "nbformat": 4,
 "nbformat_minor": 2
}
